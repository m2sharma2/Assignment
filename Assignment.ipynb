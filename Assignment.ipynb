{
 "cells": [
  {
   "cell_type": "markdown",
   "id": "b721c64f-e916-4b55-bf37-99ce072d12e3",
   "metadata": {},
   "source": [
    "# My Jupyter Notebook on IBM Watson Studio"
   ]
  },
  {
   "cell_type": "markdown",
   "id": "2b20eb60-4968-4d00-a5ce-024ba97f3508",
   "metadata": {},
   "source": [
    "**Mohit Sharma**"
   ]
  },
  {
   "cell_type": "markdown",
   "id": "0b44399d-c897-4c69-9bb4-0c232ca680ff",
   "metadata": {},
   "source": [
    "*I am interested in data science because data science is a fascinating field that enables us to extract valuable insights and predictions from vast amounts of data, which can be used to make informed decisions and improve various aspects of our lives.*"
   ]
  },
  {
   "cell_type": "markdown",
   "id": "1f7b27d2-5c1d-4b6e-8957-5a3ea9836c1b",
   "metadata": {},
   "source": [
    "### In Cell 5, I have written a code which will give us the answer of 5 raise to the power of 3."
   ]
  },
  {
   "cell_type": "code",
   "execution_count": 8,
   "id": "3580f232-52fe-44f7-a7f9-066db3a5c4f7",
   "metadata": {},
   "outputs": [
    {
     "data": {
      "text/plain": [
       "125"
      ]
     },
     "execution_count": 8,
     "metadata": {},
     "output_type": "execute_result"
    }
   ],
   "source": [
    "5**3"
   ]
  },
  {
   "cell_type": "markdown",
   "id": "ae220c27-6964-4120-ac36-0842264dbb74",
   "metadata": {},
   "source": [
    "- Mohit\n",
    "- Sharma\n",
    "- Working\n",
    "- On\n",
    "- IBM Professional Certificate\n",
    "\n",
    "1. Mohit\n",
    "2. Sharma\n",
    "3. Working\n",
    "4. On\n",
    "5. IBM Professional Certificate\n",
    "\n",
    "~~Mohit Sharma Working On IBM Professional Certificate~~\n",
    "\n",
    "| City | No of Buses | \n",
    "| -----| ----- |\n",
    "| Kamloops | 100 |\n",
    "| Kelowna | 150 |\n"
   ]
  }
 ],
 "metadata": {
  "kernelspec": {
   "display_name": "Python",
   "language": "python",
   "name": "conda-env-python-py"
  },
  "language_info": {
   "codemirror_mode": {
    "name": "ipython",
    "version": 3
   },
   "file_extension": ".py",
   "mimetype": "text/x-python",
   "name": "python",
   "nbconvert_exporter": "python",
   "pygments_lexer": "ipython3",
   "version": "3.7.12"
  }
 },
 "nbformat": 4,
 "nbformat_minor": 5
}
